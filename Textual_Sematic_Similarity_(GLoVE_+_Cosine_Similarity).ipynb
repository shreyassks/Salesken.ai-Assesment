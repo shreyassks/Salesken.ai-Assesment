{
  "nbformat": 4,
  "nbformat_minor": 0,
  "metadata": {
    "colab": {
      "name": "Textual Sematic Similarity (GLoVE + Cosine Similarity)",
      "provenance": [],
      "collapsed_sections": []
    },
    "kernelspec": {
      "name": "python3",
      "display_name": "Python 3"
    },
    "accelerator": "GPU"
  },
  "cells": [
    {
      "cell_type": "code",
      "metadata": {
        "id": "j27XHbJyhjX2",
        "colab_type": "code",
        "outputId": "32ed6145-6144-4a5b-cdbc-8754a1ebd646",
        "colab": {
          "base_uri": "https://localhost:8080/",
          "height": 33
        }
      },
      "source": [
        "from google.colab import drive\n",
        "drive.mount('/content/drive')"
      ],
      "execution_count": 1,
      "outputs": [
        {
          "output_type": "stream",
          "text": [
            "Drive already mounted at /content/drive; to attempt to forcibly remount, call drive.mount(\"/content/drive\", force_remount=True).\n"
          ],
          "name": "stdout"
        }
      ]
    },
    {
      "cell_type": "code",
      "metadata": {
        "id": "LN5iFAE_hnlW",
        "colab_type": "code",
        "colab": {}
      },
      "source": [
        "import os\n",
        "import numpy as np, pandas as pd\n",
        "import requests"
      ],
      "execution_count": 0,
      "outputs": []
    },
    {
      "cell_type": "code",
      "metadata": {
        "id": "ArHdrdvxGRE4",
        "colab_type": "code",
        "colab": {}
      },
      "source": [
        "df = pd.read_csv('/content/drive/My Drive/list_of_sentences', header = None)"
      ],
      "execution_count": 0,
      "outputs": []
    },
    {
      "cell_type": "code",
      "metadata": {
        "id": "r-QMm03iJG9U",
        "colab_type": "code",
        "outputId": "34457630-0c55-4785-943d-4b666734489b",
        "colab": {
          "base_uri": "https://localhost:8080/",
          "height": 166
        }
      },
      "source": [
        "df.head(4)"
      ],
      "execution_count": 4,
      "outputs": [
        {
          "output_type": "execute_result",
          "data": {
            "text/html": [
              "<div>\n",
              "<style scoped>\n",
              "    .dataframe tbody tr th:only-of-type {\n",
              "        vertical-align: middle;\n",
              "    }\n",
              "\n",
              "    .dataframe tbody tr th {\n",
              "        vertical-align: top;\n",
              "    }\n",
              "\n",
              "    .dataframe thead th {\n",
              "        text-align: right;\n",
              "    }\n",
              "</style>\n",
              "<table border=\"1\" class=\"dataframe\">\n",
              "  <thead>\n",
              "    <tr style=\"text-align: right;\">\n",
              "      <th></th>\n",
              "      <th>0</th>\n",
              "    </tr>\n",
              "  </thead>\n",
              "  <tbody>\n",
              "    <tr>\n",
              "      <th>0</th>\n",
              "      <td>good morning</td>\n",
              "    </tr>\n",
              "    <tr>\n",
              "      <th>1</th>\n",
              "      <td>how are you doing ?</td>\n",
              "    </tr>\n",
              "    <tr>\n",
              "      <th>2</th>\n",
              "      <td>the weather is awesome today</td>\n",
              "    </tr>\n",
              "    <tr>\n",
              "      <th>3</th>\n",
              "      <td>samsung</td>\n",
              "    </tr>\n",
              "  </tbody>\n",
              "</table>\n",
              "</div>"
            ],
            "text/plain": [
              "                              0\n",
              "0                  good morning\n",
              "1           how are you doing ?\n",
              "2  the weather is awesome today\n",
              "3                       samsung"
            ]
          },
          "metadata": {
            "tags": []
          },
          "execution_count": 4
        }
      ]
    },
    {
      "cell_type": "code",
      "metadata": {
        "id": "XA4YrtXxGwNL",
        "colab_type": "code",
        "colab": {}
      },
      "source": [
        "list_of_sent = df.astype(str).values.tolist()"
      ],
      "execution_count": 0,
      "outputs": []
    },
    {
      "cell_type": "code",
      "metadata": {
        "id": "93k16CrsL11w",
        "colab_type": "code",
        "outputId": "e7b6c67f-a652-44e7-e624-6ec58526b3a3",
        "colab": {
          "base_uri": "https://localhost:8080/",
          "height": 234
        }
      },
      "source": [
        "list_of_sent"
      ],
      "execution_count": 6,
      "outputs": [
        {
          "output_type": "execute_result",
          "data": {
            "text/plain": [
              "[['good morning'],\n",
              " ['how are you doing ?'],\n",
              " ['the weather is awesome today'],\n",
              " ['samsung'],\n",
              " ['good afternoon'],\n",
              " ['baseball is played in the USA'],\n",
              " ['there is a thunderstorm '],\n",
              " ['are you doing good ?'],\n",
              " ['The polar regions are melting\"'],\n",
              " ['apple'],\n",
              " ['nokia'],\n",
              " ['cricket is a fun game'],\n",
              " ['the climate change is a problem']]"
            ]
          },
          "metadata": {
            "tags": []
          },
          "execution_count": 6
        }
      ]
    },
    {
      "cell_type": "code",
      "metadata": {
        "id": "nwfH1hpdhVtr",
        "colab_type": "code",
        "colab": {}
      },
      "source": [
        "GLOVE_DIR = '/content/drive/My Drive/glove.6B.50d.txt'"
      ],
      "execution_count": 0,
      "outputs": []
    },
    {
      "cell_type": "code",
      "metadata": {
        "id": "UURf_nLjiNxA",
        "colab_type": "code",
        "colab": {}
      },
      "source": [
        "def loadGloveModel(GLOVE_DIR):\n",
        "    print (\"Loading Glove Model\")\n",
        "    with open(GLOVE_DIR, encoding=\"utf8\" ) as f:\n",
        "        content = f.readlines()\n",
        "    model = {}\n",
        "    for line in content:\n",
        "        splitLine = line.split()\n",
        "        word = splitLine[0]\n",
        "        embedding = np.array([float(val) for val in splitLine[1:]])\n",
        "        model[word] = embedding\n",
        "    print (\"Done.\",len(model),\" words loaded!\")\n",
        "    return model"
      ],
      "execution_count": 0,
      "outputs": []
    },
    {
      "cell_type": "code",
      "metadata": {
        "id": "LRbnsXECiaec",
        "colab_type": "code",
        "outputId": "eadf2421-1980-40c0-fe82-b0b06d6e3215",
        "colab": {
          "base_uri": "https://localhost:8080/",
          "height": 84
        }
      },
      "source": [
        "import re, nltk\n",
        "from nltk.corpus import stopwords\n",
        "from nltk.stem import WordNetLemmatizer\n",
        "from nltk import wordnet\n",
        "nltk.download('stopwords')\n",
        "nltk.download('wordnet')\n",
        "\n",
        "lemmatizer = WordNetLemmatizer()\n",
        "\n",
        "def preprocess(raw_text):\n",
        "\n",
        "    # keep only words\n",
        "    letters_only_text = re.sub(\"[^a-zA-Z]\", \" \", raw_text)\n",
        "\n",
        "    # convert to lower case and split \n",
        "    words = letters_only_text.lower().split()\n",
        "\n",
        "    # remove stopwords\n",
        "    stopword_set = set(stopwords.words(\"english\"))\n",
        "    cleaned_words = list(set([w for w in words if w not in stopword_set]))\n",
        "\n",
        "    lemm_words = [lemmatizer.lemmatize(w, wordnet.NOUN) for w in cleaned_words]\n",
        "\n",
        "    return lemm_words"
      ],
      "execution_count": 9,
      "outputs": [
        {
          "output_type": "stream",
          "text": [
            "[nltk_data] Downloading package stopwords to /root/nltk_data...\n",
            "[nltk_data]   Package stopwords is already up-to-date!\n",
            "[nltk_data] Downloading package wordnet to /root/nltk_data...\n",
            "[nltk_data]   Package wordnet is already up-to-date!\n"
          ],
          "name": "stdout"
        }
      ]
    },
    {
      "cell_type": "code",
      "metadata": {
        "id": "Nr4Ocr0JioJT",
        "colab_type": "code",
        "outputId": "4492ccf5-da17-4dc4-dd8c-4ab46847e840",
        "colab": {
          "base_uri": "https://localhost:8080/",
          "height": 50
        }
      },
      "source": [
        "model = loadGloveModel(GLOVE_DIR)"
      ],
      "execution_count": 10,
      "outputs": [
        {
          "output_type": "stream",
          "text": [
            "Loading Glove Model\n",
            "Done. 400000  words loaded!\n"
          ],
          "name": "stdout"
        }
      ]
    },
    {
      "cell_type": "code",
      "metadata": {
        "id": "AgfF_nq7ihwB",
        "colab_type": "code",
        "colab": {}
      },
      "source": [
        "def cosine_distance_wordembedding_method(s1, s2):\n",
        "    import scipy\n",
        "    vector_1 = np.mean([model[word] for word in preprocess(s1)],axis=0)\n",
        "    vector_2 = np.mean([model[word] for word in preprocess(s2)],axis=0)\n",
        "    cosine = scipy.spatial.distance.cosine(vector_1, vector_2)\n",
        "    #print('Word Embedding method with a cosine distance asses that our two sentences are similar to',round((1-cosine)*100,2),'%')\n",
        "    return round((1-cosine)*100,2)"
      ],
      "execution_count": 0,
      "outputs": []
    },
    {
      "cell_type": "code",
      "metadata": {
        "id": "9Oyc38ba6o34",
        "colab_type": "code",
        "colab": {}
      },
      "source": [
        "def output(list_of_words):\n",
        "\n",
        "  op = []\n",
        "  #sentences = [list_of_words]\n",
        "  for i in range(0, len(list_of_words)):\n",
        "    for j in range(i+1, len(list_of_words)):\n",
        "      if cosine_distance_wordembedding_method(list_of_words[i][0], list_of_words[j][0]) == 100.0:\n",
        "        continue\n",
        "      elif cosine_distance_wordembedding_method(list_of_words[i][0], list_of_words[j][0]) > 70.0:\n",
        "        op.extend([[list_of_words[i], list_of_words[j]]])\n",
        "      else:\n",
        "        continue\n",
        "  \n",
        "  return op"
      ],
      "execution_count": 0,
      "outputs": []
    },
    {
      "cell_type": "code",
      "metadata": {
        "id": "PleHaql3Ikjx",
        "colab_type": "code",
        "outputId": "23faa58d-c383-4ba8-ff6e-26e700e89e8f",
        "colab": {
          "base_uri": "https://localhost:8080/",
          "height": 301
        }
      },
      "source": [
        "output(list_of_sent)"
      ],
      "execution_count": 13,
      "outputs": [
        {
          "output_type": "stream",
          "text": [
            "/usr/local/lib/python3.6/dist-packages/numpy/core/fromnumeric.py:3257: RuntimeWarning: Mean of empty slice.\n",
            "  out=out, **kwargs)\n",
            "/usr/local/lib/python3.6/dist-packages/numpy/core/_methods.py:161: RuntimeWarning: invalid value encountered in double_scalars\n",
            "  ret = ret.dtype.type(ret / rcount)\n"
          ],
          "name": "stderr"
        },
        {
          "output_type": "execute_result",
          "data": {
            "text/plain": [
              "[[['good morning'], ['the weather is awesome today']],\n",
              " [['good morning'], ['good afternoon']],\n",
              " [['good morning'], ['are you doing good ?']],\n",
              " [['good morning'], ['cricket is a fun game']],\n",
              " [['the weather is awesome today'], ['good afternoon']],\n",
              " [['the weather is awesome today'], ['are you doing good ?']],\n",
              " [['the weather is awesome today'], ['the climate change is a problem']],\n",
              " [['samsung'], ['nokia']],\n",
              " [['good afternoon'], ['are you doing good ?']],\n",
              " [['good afternoon'], ['cricket is a fun game']],\n",
              " [['baseball is played in the USA'], ['cricket is a fun game']],\n",
              " [['are you doing good ?'], ['cricket is a fun game']],\n",
              " [['are you doing good ?'], ['the climate change is a problem']]]"
            ]
          },
          "metadata": {
            "tags": []
          },
          "execution_count": 13
        }
      ]
    },
    {
      "cell_type": "code",
      "metadata": {
        "id": "grj3c-QEKBt4",
        "colab_type": "code",
        "outputId": "b0473664-30f5-47d8-c0f7-5f8665ebc6c5",
        "colab": {
          "base_uri": "https://localhost:8080/",
          "height": 50
        }
      },
      "source": [
        "user_query = pd.DataFrame([\"Football is played in Brazil\", \"Cricket is played in India\", \"Travelling is good for health\", \"People love traveling in winter\"])\n",
        "k = user_query.astype(str).values.tolist()\n",
        "output(k)"
      ],
      "execution_count": 14,
      "outputs": [
        {
          "output_type": "execute_result",
          "data": {
            "text/plain": [
              "[[['Football is played in Brazil'], ['Cricket is played in India']],\n",
              " [['Travelling is good for health'], ['People love traveling in winter']]]"
            ]
          },
          "metadata": {
            "tags": []
          },
          "execution_count": 14
        }
      ]
    },
    {
      "cell_type": "code",
      "metadata": {
        "id": "1Gdk8QRvDAH7",
        "colab_type": "code",
        "outputId": "1d065369-0e71-4d04-d524-493aceb3ad36",
        "colab": {
          "base_uri": "https://localhost:8080/",
          "height": 87
        }
      },
      "source": [
        "from sklearn.externals import joblib \n",
        "  \n",
        "# Save the model as a pickle in a file \n",
        "joblib.dump(output, 'semantic_similarity.pkl')"
      ],
      "execution_count": 15,
      "outputs": [
        {
          "output_type": "stream",
          "text": [
            "/usr/local/lib/python3.6/dist-packages/sklearn/externals/joblib/__init__.py:15: FutureWarning: sklearn.externals.joblib is deprecated in 0.21 and will be removed in 0.23. Please import this functionality directly from joblib, which can be installed with: pip install joblib. If this warning is raised when loading pickled models, you may need to re-serialize those models with scikit-learn 0.21+.\n",
            "  warnings.warn(msg, category=FutureWarning)\n"
          ],
          "name": "stderr"
        },
        {
          "output_type": "execute_result",
          "data": {
            "text/plain": [
              "['semantic_similarity.pkl']"
            ]
          },
          "metadata": {
            "tags": []
          },
          "execution_count": 15
        }
      ]
    },
    {
      "cell_type": "code",
      "metadata": {
        "id": "HSpbGKxqDNIx",
        "colab_type": "code",
        "outputId": "2d8f39b7-9e1f-47ac-ace1-8ac1d9385ee1",
        "colab": {
          "base_uri": "https://localhost:8080/",
          "height": 301
        }
      },
      "source": [
        "v = joblib.load('semantic_similarity.pkl') \n",
        "v(list_of_sent)"
      ],
      "execution_count": 16,
      "outputs": [
        {
          "output_type": "stream",
          "text": [
            "/usr/local/lib/python3.6/dist-packages/numpy/core/fromnumeric.py:3257: RuntimeWarning: Mean of empty slice.\n",
            "  out=out, **kwargs)\n",
            "/usr/local/lib/python3.6/dist-packages/numpy/core/_methods.py:161: RuntimeWarning: invalid value encountered in double_scalars\n",
            "  ret = ret.dtype.type(ret / rcount)\n"
          ],
          "name": "stderr"
        },
        {
          "output_type": "execute_result",
          "data": {
            "text/plain": [
              "[[['good morning'], ['the weather is awesome today']],\n",
              " [['good morning'], ['good afternoon']],\n",
              " [['good morning'], ['are you doing good ?']],\n",
              " [['good morning'], ['cricket is a fun game']],\n",
              " [['the weather is awesome today'], ['good afternoon']],\n",
              " [['the weather is awesome today'], ['are you doing good ?']],\n",
              " [['the weather is awesome today'], ['the climate change is a problem']],\n",
              " [['samsung'], ['nokia']],\n",
              " [['good afternoon'], ['are you doing good ?']],\n",
              " [['good afternoon'], ['cricket is a fun game']],\n",
              " [['baseball is played in the USA'], ['cricket is a fun game']],\n",
              " [['are you doing good ?'], ['cricket is a fun game']],\n",
              " [['are you doing good ?'], ['the climate change is a problem']]]"
            ]
          },
          "metadata": {
            "tags": []
          },
          "execution_count": 16
        }
      ]
    },
    {
      "cell_type": "code",
      "metadata": {
        "id": "1o8P1QjVgWtb",
        "colab_type": "code",
        "colab": {}
      },
      "source": [
        "#pip install Flask-RESTful"
      ],
      "execution_count": 0,
      "outputs": []
    },
    {
      "cell_type": "code",
      "metadata": {
        "id": "xkp9kScH_yy5",
        "colab_type": "code",
        "colab": {}
      },
      "source": [
        "from flask import Flask\n",
        "from flask_restful import reqparse, abort, Api, Resource\n",
        "import pickle\n",
        "import numpy as np"
      ],
      "execution_count": 0,
      "outputs": []
    },
    {
      "cell_type": "code",
      "metadata": {
        "id": "O24KqTXtB_68",
        "colab_type": "code",
        "outputId": "272702fa-3d9f-444f-90ea-e27cfb272ed2",
        "colab": {
          "base_uri": "https://localhost:8080/",
          "height": 33
        }
      },
      "source": [
        "app = Flask(__name__)\n",
        "api = Api(app)\n",
        "\n",
        "clf_path = '/content/semantic_similarity.pkl'\n",
        "with open(clf_path, 'rb') as f:\n",
        "    model = pickle.load(f)\n",
        "\n",
        "# argument parsing\n",
        "parser = reqparse.RequestParser()\n",
        "parser.add_argument('query')"
      ],
      "execution_count": 19,
      "outputs": [
        {
          "output_type": "execute_result",
          "data": {
            "text/plain": [
              "<flask_restful.reqparse.RequestParser at 0x7fb369b42b70>"
            ]
          },
          "metadata": {
            "tags": []
          },
          "execution_count": 19
        }
      ]
    },
    {
      "cell_type": "code",
      "metadata": {
        "id": "IfXLHfvmCF0e",
        "colab_type": "code",
        "colab": {}
      },
      "source": [
        "class textual_similarity(Resource):\n",
        "    def get(self):\n",
        "        # use parser and find the user's query\n",
        "        args = parser.parse_args()\n",
        "        user_query = args['query']\n",
        "\n",
        "        user_query = pd.DataFrame(user_query)\n",
        "        input_file = user_query.astype(str).values.tolist()\n",
        "\n",
        "        pred_text = model\n",
        "        # create JSON object\n",
        "        output = {'prediction': pred_text}\n",
        "        \n",
        "        return output"
      ],
      "execution_count": 0,
      "outputs": []
    },
    {
      "cell_type": "code",
      "metadata": {
        "id": "FjuNrGYkCJhQ",
        "colab_type": "code",
        "colab": {
          "base_uri": "https://localhost:8080/",
          "height": 33
        },
        "outputId": "2fc5de73-95c0-4046-f2d0-c436201586a9"
      },
      "source": [
        "# Setup the Api resource routing here\n",
        "# Route the URL to the resource\n",
        "#api.add_resource(textual_similarity, '/')\n",
        "'''\n",
        "if __name__ == '__main__':\n",
        "    app.run(debug=True)\n",
        "'''"
      ],
      "execution_count": 21,
      "outputs": [
        {
          "output_type": "execute_result",
          "data": {
            "text/plain": [
              "\"\\nif __name__ == '__main__':\\n    app.run(debug=True)\\n\""
            ]
          },
          "metadata": {
            "tags": []
          },
          "execution_count": 21
        }
      ]
    }
  ]
}