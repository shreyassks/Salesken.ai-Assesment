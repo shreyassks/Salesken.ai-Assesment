{
  "nbformat": 4,
  "nbformat_minor": 0,
  "metadata": {
    "colab": {
      "name": "Fuzzy String Matching",
      "provenance": [],
      "collapsed_sections": []
    },
    "kernelspec": {
      "name": "python3",
      "display_name": "Python 3"
    },
    "accelerator": "GPU"
  },
  "cells": [
    {
      "cell_type": "code",
      "metadata": {
        "id": "fcHaCoANi0E3",
        "colab_type": "code",
        "outputId": "7627d243-6d19-483d-931d-5ba6d71f58c3",
        "colab": {
          "base_uri": "https://localhost:8080/",
          "height": 34
        }
      },
      "source": [
        "from google.colab import drive\n",
        "drive.mount('/content/drive')"
      ],
      "execution_count": 1,
      "outputs": [
        {
          "output_type": "stream",
          "text": [
            "Drive already mounted at /content/drive; to attempt to forcibly remount, call drive.mount(\"/content/drive\", force_remount=True).\n"
          ],
          "name": "stdout"
        }
      ]
    },
    {
      "cell_type": "code",
      "metadata": {
        "id": "jIQ9m3gGYZvr",
        "colab_type": "code",
        "outputId": "340e48d8-2f8f-487b-9a93-e7ddadf6765f",
        "colab": {
          "base_uri": "https://localhost:8080/",
          "height": 51
        }
      },
      "source": [
        "pip install python-Levenshtein"
      ],
      "execution_count": 2,
      "outputs": [
        {
          "output_type": "stream",
          "text": [
            "Requirement already satisfied: python-Levenshtein in /usr/local/lib/python3.6/dist-packages (0.12.0)\n",
            "Requirement already satisfied: setuptools in /usr/local/lib/python3.6/dist-packages (from python-Levenshtein) (42.0.2)\n"
          ],
          "name": "stdout"
        }
      ]
    },
    {
      "cell_type": "code",
      "metadata": {
        "id": "etXKJHg8YoBR",
        "colab_type": "code",
        "outputId": "e49d82ae-3eb1-4ea3-898a-6d6e3a13957d",
        "colab": {
          "base_uri": "https://localhost:8080/",
          "height": 34
        }
      },
      "source": [
        "pip install fuzzywuzzy"
      ],
      "execution_count": 3,
      "outputs": [
        {
          "output_type": "stream",
          "text": [
            "Requirement already satisfied: fuzzywuzzy in /usr/local/lib/python3.6/dist-packages (0.17.0)\n"
          ],
          "name": "stdout"
        }
      ]
    },
    {
      "cell_type": "code",
      "metadata": {
        "id": "jK5z5x4rjdZR",
        "colab_type": "code",
        "colab": {}
      },
      "source": [
        "import pandas as pd, numpy as np\n",
        "from fuzzywuzzy import process"
      ],
      "execution_count": 0,
      "outputs": []
    },
    {
      "cell_type": "code",
      "metadata": {
        "id": "zpkqhJ18isrg",
        "colab_type": "code",
        "colab": {}
      },
      "source": [
        "correct_cities = pd.read_csv('/content/drive/My Drive/Salesken.ai/Correct_cities.csv')\n",
        "misspelt_cities = pd.read_csv('/content/drive/My Drive/Salesken.ai/Misspelt_cities.csv')"
      ],
      "execution_count": 0,
      "outputs": []
    },
    {
      "cell_type": "code",
      "metadata": {
        "id": "kPh2DkzeJjrb",
        "colab_type": "code",
        "colab": {}
      },
      "source": [
        "correct_cities = correct_cities.sort_values('country')\n",
        "misspelt_cities = misspelt_cities.sort_values('country')"
      ],
      "execution_count": 0,
      "outputs": []
    },
    {
      "cell_type": "code",
      "metadata": {
        "id": "IFfJPCrYdLdH",
        "colab_type": "code",
        "outputId": "510b605a-35a2-4017-ae39-28f4d364712b",
        "colab": {
          "base_uri": "https://localhost:8080/",
          "height": 204
        }
      },
      "source": [
        "correct_cities.tail()"
      ],
      "execution_count": 7,
      "outputs": [
        {
          "output_type": "execute_result",
          "data": {
            "text/html": [
              "<div>\n",
              "<style scoped>\n",
              "    .dataframe tbody tr th:only-of-type {\n",
              "        vertical-align: middle;\n",
              "    }\n",
              "\n",
              "    .dataframe tbody tr th {\n",
              "        vertical-align: top;\n",
              "    }\n",
              "\n",
              "    .dataframe thead th {\n",
              "        text-align: right;\n",
              "    }\n",
              "</style>\n",
              "<table border=\"1\" class=\"dataframe\">\n",
              "  <thead>\n",
              "    <tr style=\"text-align: right;\">\n",
              "      <th></th>\n",
              "      <th>name</th>\n",
              "      <th>country</th>\n",
              "      <th>id</th>\n",
              "    </tr>\n",
              "  </thead>\n",
              "  <tbody>\n",
              "    <tr>\n",
              "      <th>22993</th>\n",
              "      <td>Victoria Falls</td>\n",
              "      <td>Zimbabwe</td>\n",
              "      <td>879431</td>\n",
              "    </tr>\n",
              "    <tr>\n",
              "      <th>22992</th>\n",
              "      <td>Zvishavane</td>\n",
              "      <td>Zimbabwe</td>\n",
              "      <td>878549</td>\n",
              "    </tr>\n",
              "    <tr>\n",
              "      <th>23016</th>\n",
              "      <td>Epworth</td>\n",
              "      <td>Zimbabwe</td>\n",
              "      <td>1085510</td>\n",
              "    </tr>\n",
              "    <tr>\n",
              "      <th>23003</th>\n",
              "      <td>Kariba</td>\n",
              "      <td>Zimbabwe</td>\n",
              "      <td>889215</td>\n",
              "    </tr>\n",
              "    <tr>\n",
              "      <th>23017</th>\n",
              "      <td>Chitungwiza</td>\n",
              "      <td>Zimbabwe</td>\n",
              "      <td>1106542</td>\n",
              "    </tr>\n",
              "  </tbody>\n",
              "</table>\n",
              "</div>"
            ],
            "text/plain": [
              "                 name   country       id\n",
              "22993  Victoria Falls  Zimbabwe   879431\n",
              "22992      Zvishavane  Zimbabwe   878549\n",
              "23016         Epworth  Zimbabwe  1085510\n",
              "23003          Kariba  Zimbabwe   889215\n",
              "23017     Chitungwiza  Zimbabwe  1106542"
            ]
          },
          "metadata": {
            "tags": []
          },
          "execution_count": 7
        }
      ]
    },
    {
      "cell_type": "code",
      "metadata": {
        "id": "jLdxCN5vmPwn",
        "colab_type": "code",
        "outputId": "a0144e3b-0795-4248-b76a-4d04f815690d",
        "colab": {
          "base_uri": "https://localhost:8080/",
          "height": 204
        }
      },
      "source": [
        "misspelt_cities.tail()"
      ],
      "execution_count": 8,
      "outputs": [
        {
          "output_type": "execute_result",
          "data": {
            "text/html": [
              "<div>\n",
              "<style scoped>\n",
              "    .dataframe tbody tr th:only-of-type {\n",
              "        vertical-align: middle;\n",
              "    }\n",
              "\n",
              "    .dataframe tbody tr th {\n",
              "        vertical-align: top;\n",
              "    }\n",
              "\n",
              "    .dataframe thead th {\n",
              "        text-align: right;\n",
              "    }\n",
              "</style>\n",
              "<table border=\"1\" class=\"dataframe\">\n",
              "  <thead>\n",
              "    <tr style=\"text-align: right;\">\n",
              "      <th></th>\n",
              "      <th>misspelt_name</th>\n",
              "      <th>country</th>\n",
              "    </tr>\n",
              "  </thead>\n",
              "  <tbody>\n",
              "    <tr>\n",
              "      <th>11549</th>\n",
              "      <td>Harore</td>\n",
              "      <td>Zimbabwe</td>\n",
              "    </tr>\n",
              "    <tr>\n",
              "      <th>5032</th>\n",
              "      <td>Chkpinge</td>\n",
              "      <td>Zimbabwe</td>\n",
              "    </tr>\n",
              "    <tr>\n",
              "      <th>16948</th>\n",
              "      <td>Shirugwi</td>\n",
              "      <td>Zimbabwe</td>\n",
              "    </tr>\n",
              "    <tr>\n",
              "      <th>4537</th>\n",
              "      <td>Karox</td>\n",
              "      <td>Zimbabwe</td>\n",
              "    </tr>\n",
              "    <tr>\n",
              "      <th>12962</th>\n",
              "      <td>Butawayo</td>\n",
              "      <td>Zimbabwe</td>\n",
              "    </tr>\n",
              "  </tbody>\n",
              "</table>\n",
              "</div>"
            ],
            "text/plain": [
              "      misspelt_name   country\n",
              "11549        Harore  Zimbabwe\n",
              "5032       Chkpinge  Zimbabwe\n",
              "16948      Shirugwi  Zimbabwe\n",
              "4537          Karox  Zimbabwe\n",
              "12962      Butawayo  Zimbabwe"
            ]
          },
          "metadata": {
            "tags": []
          },
          "execution_count": 8
        }
      ]
    },
    {
      "cell_type": "code",
      "metadata": {
        "id": "b0r1l_uAa6IC",
        "colab_type": "code",
        "outputId": "953d1b09-e26d-45a2-997e-d4397807adee",
        "colab": {
          "base_uri": "https://localhost:8080/",
          "height": 136
        }
      },
      "source": [
        "misspelt_cities.info()"
      ],
      "execution_count": 9,
      "outputs": [
        {
          "output_type": "stream",
          "text": [
            "<class 'pandas.core.frame.DataFrame'>\n",
            "Int64Index: 23018 entries, 13609 to 12962\n",
            "Data columns (total 2 columns):\n",
            "misspelt_name    23018 non-null object\n",
            "country          23018 non-null object\n",
            "dtypes: object(2)\n",
            "memory usage: 539.5+ KB\n"
          ],
          "name": "stdout"
        }
      ]
    },
    {
      "cell_type": "code",
      "metadata": {
        "id": "X5ATEy0hbFzw",
        "colab_type": "code",
        "colab": {}
      },
      "source": [
        "correct_cities['name'] = correct_cities['name'].astype('str')\n",
        "misspelt_cities['misspelt_name'] = misspelt_cities['misspelt_name'].astype('str')"
      ],
      "execution_count": 0,
      "outputs": []
    },
    {
      "cell_type": "code",
      "metadata": {
        "id": "5sTnT0dNIfva",
        "colab_type": "code",
        "colab": {}
      },
      "source": [
        "def fuzzy_merge(df_1, df_2, key1, key2, threshold=80):\n",
        "    \"\"\"\n",
        "    df_1 is the left table to join\n",
        "    df_2 is the right table to join\n",
        "    key1 is the key column of the left table\n",
        "    key2 is the key column of the right table\n",
        "    threshold is how close the matches should be to return a match, based on Levenshtein distance\n",
        "    \"\"\"\n",
        "    s = df_2[key2].tolist()\n",
        "\n",
        "    m = df_1[key1].apply(lambda x: process.extract(x, s))    \n",
        "    df_1['matches'] = m\n",
        "\n",
        "    m2 = df_1['matches'].apply(lambda x: ', '.join([i[0] for i in x if i[1] >= threshold]))\n",
        "    df_1['matches'] = m2\n",
        "\n",
        "    return df_1"
      ],
      "execution_count": 0,
      "outputs": []
    },
    {
      "cell_type": "code",
      "metadata": {
        "id": "ZVfXoLkyYUrp",
        "colab_type": "code",
        "colab": {}
      },
      "source": [
        "def ids(correct_cities, misspelt_cities, threshold):\n",
        "\n",
        "  total_df = pd.DataFrame(columns=correct_cities.columns)\n",
        "  countries = correct_cities.country.unique().tolist()\n",
        "\n",
        "  for country in countries:\n",
        "    df = fuzzy_merge(correct_cities.loc[correct_cities['country'] == country], misspelt_cities.loc[misspelt_cities['country'] == country], \\\n",
        "                    'name', 'misspelt_name', threshold = 80)\n",
        "    total_df = total_df.append(df, ignore_index=True, sort = True)\n",
        "    truncated_df = total_df[['id','matches']]\n",
        "\n",
        "  return truncated_df"
      ],
      "execution_count": 0,
      "outputs": []
    },
    {
      "cell_type": "code",
      "metadata": {
        "id": "24uUTsOvhkrv",
        "colab_type": "code",
        "colab": {
          "base_uri": "https://localhost:8080/",
          "height": 623
        },
        "outputId": "a92d6ca3-f642-4a38-fe70-a4cde80a27b2"
      },
      "source": [
        "ids(correct_cities, misspelt_cities, 80)"
      ],
      "execution_count": 13,
      "outputs": [
        {
          "output_type": "stream",
          "text": [
            "/usr/local/lib/python3.6/dist-packages/ipykernel_launcher.py:12: SettingWithCopyWarning: \n",
            "A value is trying to be set on a copy of a slice from a DataFrame.\n",
            "Try using .loc[row_indexer,col_indexer] = value instead\n",
            "\n",
            "See the caveats in the documentation: http://pandas.pydata.org/pandas-docs/stable/user_guide/indexing.html#returning-a-view-versus-a-copy\n",
            "  if sys.path[0] == '':\n",
            "/usr/local/lib/python3.6/dist-packages/ipykernel_launcher.py:15: SettingWithCopyWarning: \n",
            "A value is trying to be set on a copy of a slice from a DataFrame.\n",
            "Try using .loc[row_indexer,col_indexer] = value instead\n",
            "\n",
            "See the caveats in the documentation: http://pandas.pydata.org/pandas-docs/stable/user_guide/indexing.html#returning-a-view-versus-a-copy\n",
            "  from ipykernel import kernelapp as app\n"
          ],
          "name": "stderr"
        },
        {
          "output_type": "execute_result",
          "data": {
            "text/html": [
              "<div>\n",
              "<style scoped>\n",
              "    .dataframe tbody tr th:only-of-type {\n",
              "        vertical-align: middle;\n",
              "    }\n",
              "\n",
              "    .dataframe tbody tr th {\n",
              "        vertical-align: top;\n",
              "    }\n",
              "\n",
              "    .dataframe thead th {\n",
              "        text-align: right;\n",
              "    }\n",
              "</style>\n",
              "<table border=\"1\" class=\"dataframe\">\n",
              "  <thead>\n",
              "    <tr style=\"text-align: right;\">\n",
              "      <th></th>\n",
              "      <th>id</th>\n",
              "      <th>matches</th>\n",
              "    </tr>\n",
              "  </thead>\n",
              "  <tbody>\n",
              "    <tr>\n",
              "      <th>0</th>\n",
              "      <td>1141857</td>\n",
              "      <td>Gardēl</td>\n",
              "    </tr>\n",
              "    <tr>\n",
              "      <th>1</th>\n",
              "      <td>1135158</td>\n",
              "      <td>bushk</td>\n",
              "    </tr>\n",
              "    <tr>\n",
              "      <th>2</th>\n",
              "      <td>1135689</td>\n",
              "      <td>Kynduz</td>\n",
              "    </tr>\n",
              "    <tr>\n",
              "      <th>3</th>\n",
              "      <td>1136469</td>\n",
              "      <td>Khqst</td>\n",
              "    </tr>\n",
              "    <tr>\n",
              "      <th>4</th>\n",
              "      <td>1136575</td>\n",
              "      <td>Khulo</td>\n",
              "    </tr>\n",
              "    <tr>\n",
              "      <th>...</th>\n",
              "      <td>...</td>\n",
              "      <td>...</td>\n",
              "    </tr>\n",
              "    <tr>\n",
              "      <th>23013</th>\n",
              "      <td>879431</td>\n",
              "      <td>Victoria rplls</td>\n",
              "    </tr>\n",
              "    <tr>\n",
              "      <th>23014</th>\n",
              "      <td>878549</td>\n",
              "      <td>Ztishavaue</td>\n",
              "    </tr>\n",
              "    <tr>\n",
              "      <th>23015</th>\n",
              "      <td>1085510</td>\n",
              "      <td>Esworth</td>\n",
              "    </tr>\n",
              "    <tr>\n",
              "      <th>23016</th>\n",
              "      <td>889215</td>\n",
              "      <td>Karika</td>\n",
              "    </tr>\n",
              "    <tr>\n",
              "      <th>23017</th>\n",
              "      <td>1106542</td>\n",
              "      <td>ghitunpwiza</td>\n",
              "    </tr>\n",
              "  </tbody>\n",
              "</table>\n",
              "<p>23018 rows × 2 columns</p>\n",
              "</div>"
            ],
            "text/plain": [
              "            id         matches\n",
              "0      1141857          Gardēl\n",
              "1      1135158           bushk\n",
              "2      1135689          Kynduz\n",
              "3      1136469           Khqst\n",
              "4      1136575           Khulo\n",
              "...        ...             ...\n",
              "23013   879431  Victoria rplls\n",
              "23014   878549      Ztishavaue\n",
              "23015  1085510         Esworth\n",
              "23016   889215          Karika\n",
              "23017  1106542     ghitunpwiza\n",
              "\n",
              "[23018 rows x 2 columns]"
            ]
          },
          "metadata": {
            "tags": []
          },
          "execution_count": 13
        }
      ]
    },
    {
      "cell_type": "code",
      "metadata": {
        "id": "IGLJ6k78j0JH",
        "colab_type": "code",
        "colab": {}
      },
      "source": [
        "df1 = pd.DataFrame({'name': ['Bangalore','Karachi','Kolkata'],'country':['India','Pakistan','India'], 'id':[23,45,50]})\n",
        "df2 = pd.DataFrame({'misspelt_name' : ['Karahffi','Kolkattu','Bengaloe'],'country':['Pakistan','India','India']})"
      ],
      "execution_count": 0,
      "outputs": []
    },
    {
      "cell_type": "code",
      "metadata": {
        "id": "tll5puaCkgp7",
        "colab_type": "code",
        "colab": {
          "base_uri": "https://localhost:8080/",
          "height": 346
        },
        "outputId": "1ea64872-e430-41bd-a822-9324cfd4d83a"
      },
      "source": [
        "ids(df1, df2, 60)"
      ],
      "execution_count": 15,
      "outputs": [
        {
          "output_type": "stream",
          "text": [
            "/usr/local/lib/python3.6/dist-packages/ipykernel_launcher.py:12: SettingWithCopyWarning: \n",
            "A value is trying to be set on a copy of a slice from a DataFrame.\n",
            "Try using .loc[row_indexer,col_indexer] = value instead\n",
            "\n",
            "See the caveats in the documentation: http://pandas.pydata.org/pandas-docs/stable/user_guide/indexing.html#returning-a-view-versus-a-copy\n",
            "  if sys.path[0] == '':\n",
            "/usr/local/lib/python3.6/dist-packages/ipykernel_launcher.py:15: SettingWithCopyWarning: \n",
            "A value is trying to be set on a copy of a slice from a DataFrame.\n",
            "Try using .loc[row_indexer,col_indexer] = value instead\n",
            "\n",
            "See the caveats in the documentation: http://pandas.pydata.org/pandas-docs/stable/user_guide/indexing.html#returning-a-view-versus-a-copy\n",
            "  from ipykernel import kernelapp as app\n"
          ],
          "name": "stderr"
        },
        {
          "output_type": "execute_result",
          "data": {
            "text/html": [
              "<div>\n",
              "<style scoped>\n",
              "    .dataframe tbody tr th:only-of-type {\n",
              "        vertical-align: middle;\n",
              "    }\n",
              "\n",
              "    .dataframe tbody tr th {\n",
              "        vertical-align: top;\n",
              "    }\n",
              "\n",
              "    .dataframe thead th {\n",
              "        text-align: right;\n",
              "    }\n",
              "</style>\n",
              "<table border=\"1\" class=\"dataframe\">\n",
              "  <thead>\n",
              "    <tr style=\"text-align: right;\">\n",
              "      <th></th>\n",
              "      <th>id</th>\n",
              "      <th>matches</th>\n",
              "    </tr>\n",
              "  </thead>\n",
              "  <tbody>\n",
              "    <tr>\n",
              "      <th>0</th>\n",
              "      <td>23</td>\n",
              "      <td>Bengaloe</td>\n",
              "    </tr>\n",
              "    <tr>\n",
              "      <th>1</th>\n",
              "      <td>50</td>\n",
              "      <td>Kolkattu</td>\n",
              "    </tr>\n",
              "    <tr>\n",
              "      <th>2</th>\n",
              "      <td>45</td>\n",
              "      <td>Karahffi</td>\n",
              "    </tr>\n",
              "  </tbody>\n",
              "</table>\n",
              "</div>"
            ],
            "text/plain": [
              "   id   matches\n",
              "0  23  Bengaloe\n",
              "1  50  Kolkattu\n",
              "2  45  Karahffi"
            ]
          },
          "metadata": {
            "tags": []
          },
          "execution_count": 15
        }
      ]
    }
  ]
}