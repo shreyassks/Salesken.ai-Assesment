{
  "nbformat": 4,
  "nbformat_minor": 0,
  "metadata": {
    "colab": {
      "name": "Textual Sematic Similarity (GLoVE + Cosine Similarity)",
      "provenance": [],
      "collapsed_sections": []
    },
    "kernelspec": {
      "name": "python3",
      "display_name": "Python 3"
    }
  },
  "cells": [
    {
      "cell_type": "code",
      "metadata": {
        "id": "j27XHbJyhjX2",
        "colab_type": "code",
        "outputId": "7d659df2-e2f0-4def-acc6-2ff4a2471bae",
        "colab": {
          "base_uri": "https://localhost:8080/",
          "height": 122
        }
      },
      "source": [
        "from google.colab import drive\n",
        "drive.mount('/content/drive')"
      ],
      "execution_count": 1,
      "outputs": [
        {
          "output_type": "stream",
          "text": [
            "Go to this URL in a browser: https://accounts.google.com/o/oauth2/auth?client_id=947318989803-6bn6qk8qdgf4n4g3pfee6491hc0brc4i.apps.googleusercontent.com&redirect_uri=urn%3aietf%3awg%3aoauth%3a2.0%3aoob&response_type=code&scope=email%20https%3a%2f%2fwww.googleapis.com%2fauth%2fdocs.test%20https%3a%2f%2fwww.googleapis.com%2fauth%2fdrive%20https%3a%2f%2fwww.googleapis.com%2fauth%2fdrive.photos.readonly%20https%3a%2f%2fwww.googleapis.com%2fauth%2fpeopleapi.readonly\n",
            "\n",
            "Enter your authorization code:\n",
            "··········\n",
            "Mounted at /content/drive\n"
          ],
          "name": "stdout"
        }
      ]
    },
    {
      "cell_type": "code",
      "metadata": {
        "id": "LN5iFAE_hnlW",
        "colab_type": "code",
        "colab": {}
      },
      "source": [
        "import os\n",
        "import numpy as np, pandas as pd"
      ],
      "execution_count": 0,
      "outputs": []
    },
    {
      "cell_type": "code",
      "metadata": {
        "id": "ArHdrdvxGRE4",
        "colab_type": "code",
        "colab": {}
      },
      "source": [
        "df = pd.read_csv('/content/drive/My Drive/list_of_sentences', header = None)"
      ],
      "execution_count": 0,
      "outputs": []
    },
    {
      "cell_type": "code",
      "metadata": {
        "id": "XA4YrtXxGwNL",
        "colab_type": "code",
        "colab": {}
      },
      "source": [
        "list_of_sent = df.astype(str).values.tolist()"
      ],
      "execution_count": 0,
      "outputs": []
    },
    {
      "cell_type": "code",
      "metadata": {
        "id": "nwfH1hpdhVtr",
        "colab_type": "code",
        "colab": {}
      },
      "source": [
        "GLOVE_DIR = '/content/drive/My Drive/glove.6B.50d.txt'"
      ],
      "execution_count": 0,
      "outputs": []
    },
    {
      "cell_type": "code",
      "metadata": {
        "id": "UURf_nLjiNxA",
        "colab_type": "code",
        "colab": {}
      },
      "source": [
        "def loadGloveModel(GLOVE_DIR):\n",
        "    print (\"Loading Glove Model\")\n",
        "    with open(GLOVE_DIR, encoding=\"utf8\" ) as f:\n",
        "        content = f.readlines()\n",
        "    model = {}\n",
        "    for line in content:\n",
        "        splitLine = line.split()\n",
        "        word = splitLine[0]\n",
        "        embedding = np.array([float(val) for val in splitLine[1:]])\n",
        "        model[word] = embedding\n",
        "    print (\"Done.\",len(model),\" words loaded!\")\n",
        "    return model"
      ],
      "execution_count": 0,
      "outputs": []
    },
    {
      "cell_type": "code",
      "metadata": {
        "id": "LRbnsXECiaec",
        "colab_type": "code",
        "outputId": "0df51039-43a8-42bc-a344-606cbf90fe44",
        "colab": {
          "base_uri": "https://localhost:8080/",
          "height": 51
        }
      },
      "source": [
        "import re\n",
        "from nltk.corpus import stopwords\n",
        "import nltk\n",
        "nltk.download('stopwords')\n",
        "import pandas as pd\n",
        "\n",
        "def preprocess(raw_text):\n",
        "\n",
        "    # keep only words\n",
        "    letters_only_text = re.sub(\"[^a-zA-Z]\", \" \", raw_text)\n",
        "\n",
        "    # convert to lower case and split \n",
        "    words = letters_only_text.lower().split()\n",
        "\n",
        "    # remove stopwords\n",
        "    stopword_set = set(stopwords.words(\"english\"))\n",
        "    cleaned_words = list(set([w for w in words if w not in stopword_set]))\n",
        "\n",
        "    return cleaned_words"
      ],
      "execution_count": 16,
      "outputs": [
        {
          "output_type": "stream",
          "text": [
            "[nltk_data] Downloading package stopwords to /root/nltk_data...\n",
            "[nltk_data]   Package stopwords is already up-to-date!\n"
          ],
          "name": "stdout"
        }
      ]
    },
    {
      "cell_type": "code",
      "metadata": {
        "id": "AgfF_nq7ihwB",
        "colab_type": "code",
        "colab": {}
      },
      "source": [
        "def cosine_distance_wordembedding_method(s1, s2):\n",
        "    import scipy\n",
        "    vector_1 = np.mean([model[word] for word in preprocess(s1)],axis=0)\n",
        "    vector_2 = np.mean([model[word] for word in preprocess(s2)],axis=0)\n",
        "    cosine = scipy.spatial.distance.cosine(vector_1, vector_2)\n",
        "    #print('Word Embedding method with a cosine distance asses that our two sentences are similar to',round((1-cosine)*100,2),'%')\n",
        "    return round((1-cosine)*100,2)"
      ],
      "execution_count": 0,
      "outputs": []
    },
    {
      "cell_type": "code",
      "metadata": {
        "id": "Nr4Ocr0JioJT",
        "colab_type": "code",
        "outputId": "d8b8974c-0485-4100-d0e9-c1637c625d2f",
        "colab": {
          "base_uri": "https://localhost:8080/",
          "height": 51
        }
      },
      "source": [
        "model = loadGloveModel(GLOVE_DIR)"
      ],
      "execution_count": 18,
      "outputs": [
        {
          "output_type": "stream",
          "text": [
            "Loading Glove Model\n",
            "Done. 400000  words loaded!\n"
          ],
          "name": "stdout"
        }
      ]
    },
    {
      "cell_type": "code",
      "metadata": {
        "id": "-VJzyjsfk9xx",
        "colab_type": "code",
        "colab": {}
      },
      "source": [
        "s , t = \"Football is played in Brazil\", \"Cricket is played in India\"\n",
        "u , v =  \"Traveling is good for health\", \"People love traveling in winter\"\n",
        "w,  x = \"nokia\", \"samsung\""
      ],
      "execution_count": 0,
      "outputs": []
    },
    {
      "cell_type": "code",
      "metadata": {
        "id": "46PLk8H_jU13",
        "colab_type": "code",
        "outputId": "3e6e6274-d14c-4e7b-ee14-52efab369f5d",
        "colab": {
          "base_uri": "https://localhost:8080/",
          "height": 51
        }
      },
      "source": [
        "print(cosine_distance_wordembedding_method(s, t))\n",
        "print(cosine_distance_wordembedding_method(w, x))"
      ],
      "execution_count": 20,
      "outputs": [
        {
          "output_type": "stream",
          "text": [
            "79.48\n",
            "70.86\n"
          ],
          "name": "stdout"
        }
      ]
    },
    {
      "cell_type": "code",
      "metadata": {
        "id": "9Oyc38ba6o34",
        "colab_type": "code",
        "colab": {}
      },
      "source": [
        "def output(list_of_words):\n",
        "\n",
        "  op = []\n",
        "  #sentences = [list_of_words]\n",
        "  for i in range(len(list_of_words)):\n",
        "    for j in range(1, i):\n",
        "      if cosine_distance_wordembedding_method(list_of_words[i][0], list_of_words[j][0]) > 70.0:\n",
        "        op.extend([[list_of_words[i], list_of_words[j]]])\n",
        "  \n",
        "  return op"
      ],
      "execution_count": 0,
      "outputs": []
    },
    {
      "cell_type": "code",
      "metadata": {
        "id": "PleHaql3Ikjx",
        "colab_type": "code",
        "colab": {
          "base_uri": "https://localhost:8080/",
          "height": 238
        },
        "outputId": "db6a9cf0-8af1-4efb-bf7a-3608e85ee7eb"
      },
      "source": [
        "output(list_of_sent)"
      ],
      "execution_count": 29,
      "outputs": [
        {
          "output_type": "stream",
          "text": [
            "/usr/local/lib/python3.6/dist-packages/numpy/core/fromnumeric.py:3257: RuntimeWarning: Mean of empty slice.\n",
            "  out=out, **kwargs)\n",
            "/usr/local/lib/python3.6/dist-packages/numpy/core/_methods.py:161: RuntimeWarning: invalid value encountered in double_scalars\n",
            "  ret = ret.dtype.type(ret / rcount)\n"
          ],
          "name": "stderr"
        },
        {
          "output_type": "execute_result",
          "data": {
            "text/plain": [
              "[[['good afternoon'], ['the weather is awesome today']],\n",
              " [['are you doing good ?'], ['the weather is awesome today']],\n",
              " [['are you doing good ?'], ['good afternoon']],\n",
              " [['nokia'], ['samsung']],\n",
              " [['cricket is a fun game'], ['good afternoon']],\n",
              " [['cricket is a fun game'], ['baseball is played in the USA']],\n",
              " [['cricket is a fun game'], ['are you doing good ?']],\n",
              " [['the climate change is a problem'], ['the weather is awesome today']],\n",
              " [['the climate change is a problem'], ['are you doing good ?']]]"
            ]
          },
          "metadata": {
            "tags": []
          },
          "execution_count": 29
        }
      ]
    }
  ]
}